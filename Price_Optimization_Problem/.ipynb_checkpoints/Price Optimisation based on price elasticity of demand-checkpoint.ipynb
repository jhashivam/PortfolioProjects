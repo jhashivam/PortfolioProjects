{
 "cells": [
  {
   "cell_type": "markdown",
   "id": "3407824a",
   "metadata": {},
   "source": [
    "# Price Optimisation based on price elasticity of demand"
   ]
  },
  {
   "cell_type": "markdown",
   "id": "2e1a9590",
   "metadata": {},
   "source": [
    "- Price Optimisation - \n",
    "Price optimization is a analysis by a company to determine how customers will respond to different prices for its products and services through different channels(it could be online or offline channel). It is also used to determine the prices that the company determines will best meet its objectives such as maximizing operating profit like get more profit, get more revenue.\n",
    "\n",
    "- What type of data used ?\n",
    "The data used in price optimization can include survey data, operating costs, inventories, and historic prices & sales.\n",
    "\n",
    "- Where this is required ?\n",
    "Price optimization practice has been implemented in industries including retail, banking, airlines, casinos, hotels, car rental, cruise lines and insurance industries.\n",
    " "
   ]
  },
  {
   "cell_type": "markdown",
   "id": "8e67f4eb",
   "metadata": {},
   "source": [
    "- Price elasticity -\n",
    "Price elasticity of demand is a measurement of the change in the consumption of a product in relation to a change in its price. Expressed mathematically, it is: \n",
    "Price Elasticity of Demand = Percentage Change in Quantity Demanded / Percentage Change in Price\n",
    "                                                  "
   ]
  },
  {
   "cell_type": "markdown",
   "id": "d4c7375b",
   "metadata": {},
   "source": [
    "                                             𝑒=%Δ𝑄/%Δ𝑃"
   ]
  },
  {
   "cell_type": "markdown",
   "id": "9637ed44",
   "metadata": {},
   "source": [
    "`What i will consider here is, i will look at the sales of the items of a cafe. This cafe sells burgers, coke, lemonade and coffee.\n",
    "As a data scientist, it is our task to figure out the optimal prices to set for these items. If the price is set too high, the sales will drop & the price is set to low, then the margins will decrease.\n",
    "So, now the question is what is the sweet spot that will give this cafe the maximum profit?`"
   ]
  },
  {
   "cell_type": "markdown",
   "id": "e485d46f",
   "metadata": {},
   "source": [
    "# Lets Load the Cafe data and have feel for that-\n",
    "\n",
    "This is a regression problem statement and we are trying to find the linear relationship between the Quantity and Price.\n",
    "So elasticity is the change in quantity, divided by per unit change in price and it's linear relationship that's why we will use linear relationship. "
   ]
  },
  {
   "cell_type": "code",
   "execution_count": 2,
   "id": "849fe177",
   "metadata": {},
   "outputs": [],
   "source": [
    "# Import the reqiured libraries\n",
    "import pandas as pd  # we are using pandas and numpy for data manipulation \n",
    "import numpy as np\n",
    "import statsmodels.api as sm             # we are using stats model and the OLS(ordinary least squares model to model our data)\n",
    "from statsmodels.formula.api import ols\n",
    "import matplotlib.pyplot as plt  # We are using matplotlib for visualization, matplotlib is quite verstaile and gives visulization very easily\n",
    "import seaborn as sns; sns.set(style=\"ticks\", color_codes=True) # seaborn is library based on matplotlib for making statistical graphics,data visualization"
   ]
  },
  {
   "cell_type": "code",
   "execution_count": 3,
   "id": "aada1457",
   "metadata": {},
   "outputs": [],
   "source": [
    "## Get multiple outputs in the same cell\n",
    "from IPython.core.interactiveshell import InteractiveShell # this will give graph more interactively so that they come properly in the notebook \n",
    "InteractiveShell.ast_node_interactivity = \"all\"\n",
    "\n",
    "## Ignore all warnings otherwise jupitor notebook will be filled with a lot of red outputs and these red otput are just warnings ⚠️ not errors.\n",
    "import warnings\n",
    "warnings.filterwarnings('ignore')\n",
    "warnings.filterwarnings(action='ignore', category=DeprecationWarning)"
   ]
  },
  {
   "cell_type": "code",
   "execution_count": 4,
   "id": "c13210ad",
   "metadata": {},
   "outputs": [],
   "source": [
    "## Display all rows and columns of a dataframe instead of a truncated version\n",
    "## One of the troubles that we face is that not all the data is displayed, and the table is very truncated.\n",
    "## so lots of time we see three dots between rows and columns that we don't want.\n",
    "## we want holistic view of the data\n",
    "from IPython.display import display\n",
    "pd.set_option('display.max_columns', None)\n",
    "pd.set_option('display.max_rows', None)"
   ]
  },
  {
   "cell_type": "markdown",
   "id": "9b65ff98",
   "metadata": {},
   "source": [
    "# Load the data"
   ]
  },
  {
   "cell_type": "code",
   "execution_count": 11,
   "id": "ef35fb9b",
   "metadata": {},
   "outputs": [],
   "source": [
    "## load the datasets\n",
    "sold = pd.read_csv('/Users/shivamjha/DataScience/PortfolioProjects/Price_Optimization_Problem/data/Cafe-SellMetaData.csv')\n",
    "transactions = pd.read_csv('/Users/shivamjha/DataScience/PortfolioProjects/Price_Optimization_Problem/data/Cafe-TransactionStore.csv')\n",
    "date_info = pd.read_csv('/Users/shivamjha/DataScience/PortfolioProjects/Price_Optimization_Problem/data/Cafe-DateInfo.csv')"
   ]
  },
  {
   "cell_type": "code",
   "execution_count": 14,
   "id": "84785db0",
   "metadata": {},
   "outputs": [
    {
     "data": {
      "text/html": [
       "<div>\n",
       "<style scoped>\n",
       "    .dataframe tbody tr th:only-of-type {\n",
       "        vertical-align: middle;\n",
       "    }\n",
       "\n",
       "    .dataframe tbody tr th {\n",
       "        vertical-align: top;\n",
       "    }\n",
       "\n",
       "    .dataframe thead th {\n",
       "        text-align: right;\n",
       "    }\n",
       "</style>\n",
       "<table border=\"1\" class=\"dataframe\">\n",
       "  <thead>\n",
       "    <tr style=\"text-align: right;\">\n",
       "      <th></th>\n",
       "      <th>SELL_ID</th>\n",
       "      <th>SELL_CATEGORY</th>\n",
       "      <th>ITEM_ID</th>\n",
       "      <th>ITEM_NAME</th>\n",
       "    </tr>\n",
       "  </thead>\n",
       "  <tbody>\n",
       "    <tr>\n",
       "      <th>0</th>\n",
       "      <td>1070</td>\n",
       "      <td>0</td>\n",
       "      <td>7821</td>\n",
       "      <td>BURGER</td>\n",
       "    </tr>\n",
       "    <tr>\n",
       "      <th>1</th>\n",
       "      <td>3055</td>\n",
       "      <td>0</td>\n",
       "      <td>3052</td>\n",
       "      <td>COFFEE</td>\n",
       "    </tr>\n",
       "    <tr>\n",
       "      <th>2</th>\n",
       "      <td>3067</td>\n",
       "      <td>0</td>\n",
       "      <td>5030</td>\n",
       "      <td>COKE</td>\n",
       "    </tr>\n",
       "    <tr>\n",
       "      <th>3</th>\n",
       "      <td>3028</td>\n",
       "      <td>0</td>\n",
       "      <td>6249</td>\n",
       "      <td>LEMONADE</td>\n",
       "    </tr>\n",
       "    <tr>\n",
       "      <th>4</th>\n",
       "      <td>2051</td>\n",
       "      <td>2</td>\n",
       "      <td>7821</td>\n",
       "      <td>BURGER</td>\n",
       "    </tr>\n",
       "  </tbody>\n",
       "</table>\n",
       "</div>"
      ],
      "text/plain": [
       "   SELL_ID  SELL_CATEGORY  ITEM_ID ITEM_NAME\n",
       "0     1070              0     7821    BURGER\n",
       "1     3055              0     3052    COFFEE\n",
       "2     3067              0     5030      COKE\n",
       "3     3028              0     6249  LEMONADE\n",
       "4     2051              2     7821    BURGER"
      ]
     },
     "execution_count": 14,
     "metadata": {},
     "output_type": "execute_result"
    }
   ],
   "source": [
    "## head function will shows the first five rows of the data set.\n",
    "## it will display four column, first one is index of the table\n",
    "\n",
    "sold.head()"
   ]
  },
  {
   "cell_type": "code",
   "execution_count": 15,
   "id": "6884b106",
   "metadata": {},
   "outputs": [
    {
     "data": {
      "text/html": [
       "<div>\n",
       "<style scoped>\n",
       "    .dataframe tbody tr th:only-of-type {\n",
       "        vertical-align: middle;\n",
       "    }\n",
       "\n",
       "    .dataframe tbody tr th {\n",
       "        vertical-align: top;\n",
       "    }\n",
       "\n",
       "    .dataframe thead th {\n",
       "        text-align: right;\n",
       "    }\n",
       "</style>\n",
       "<table border=\"1\" class=\"dataframe\">\n",
       "  <thead>\n",
       "    <tr style=\"text-align: right;\">\n",
       "      <th></th>\n",
       "      <th>SELL_ID</th>\n",
       "      <th>SELL_CATEGORY</th>\n",
       "      <th>ITEM_ID</th>\n",
       "    </tr>\n",
       "  </thead>\n",
       "  <tbody>\n",
       "    <tr>\n",
       "      <th>count</th>\n",
       "      <td>11.000000</td>\n",
       "      <td>11.000000</td>\n",
       "      <td>11.000000</td>\n",
       "    </tr>\n",
       "    <tr>\n",
       "      <th>mean</th>\n",
       "      <td>2235.000000</td>\n",
       "      <td>1.272727</td>\n",
       "      <td>5906.909091</td>\n",
       "    </tr>\n",
       "    <tr>\n",
       "      <th>std</th>\n",
       "      <td>598.728653</td>\n",
       "      <td>1.009050</td>\n",
       "      <td>1830.217170</td>\n",
       "    </tr>\n",
       "    <tr>\n",
       "      <th>min</th>\n",
       "      <td>1070.000000</td>\n",
       "      <td>0.000000</td>\n",
       "      <td>3052.000000</td>\n",
       "    </tr>\n",
       "    <tr>\n",
       "      <th>25%</th>\n",
       "      <td>2051.500000</td>\n",
       "      <td>0.000000</td>\n",
       "      <td>5030.000000</td>\n",
       "    </tr>\n",
       "    <tr>\n",
       "      <th>50%</th>\n",
       "      <td>2053.000000</td>\n",
       "      <td>2.000000</td>\n",
       "      <td>6249.000000</td>\n",
       "    </tr>\n",
       "    <tr>\n",
       "      <th>75%</th>\n",
       "      <td>2540.500000</td>\n",
       "      <td>2.000000</td>\n",
       "      <td>7821.000000</td>\n",
       "    </tr>\n",
       "    <tr>\n",
       "      <th>max</th>\n",
       "      <td>3067.000000</td>\n",
       "      <td>2.000000</td>\n",
       "      <td>7821.000000</td>\n",
       "    </tr>\n",
       "  </tbody>\n",
       "</table>\n",
       "</div>"
      ],
      "text/plain": [
       "           SELL_ID  SELL_CATEGORY      ITEM_ID\n",
       "count    11.000000      11.000000    11.000000\n",
       "mean   2235.000000       1.272727  5906.909091\n",
       "std     598.728653       1.009050  1830.217170\n",
       "min    1070.000000       0.000000  3052.000000\n",
       "25%    2051.500000       0.000000  5030.000000\n",
       "50%    2053.000000       2.000000  6249.000000\n",
       "75%    2540.500000       2.000000  7821.000000\n",
       "max    3067.000000       2.000000  7821.000000"
      ]
     },
     "execution_count": 15,
     "metadata": {},
     "output_type": "execute_result"
    },
    {
     "data": {
      "text/html": [
       "<div>\n",
       "<style scoped>\n",
       "    .dataframe tbody tr th:only-of-type {\n",
       "        vertical-align: middle;\n",
       "    }\n",
       "\n",
       "    .dataframe tbody tr th {\n",
       "        vertical-align: top;\n",
       "    }\n",
       "\n",
       "    .dataframe thead th {\n",
       "        text-align: right;\n",
       "    }\n",
       "</style>\n",
       "<table border=\"1\" class=\"dataframe\">\n",
       "  <thead>\n",
       "    <tr style=\"text-align: right;\">\n",
       "      <th></th>\n",
       "      <th>ITEM_NAME</th>\n",
       "    </tr>\n",
       "  </thead>\n",
       "  <tbody>\n",
       "    <tr>\n",
       "      <th>count</th>\n",
       "      <td>11</td>\n",
       "    </tr>\n",
       "    <tr>\n",
       "      <th>unique</th>\n",
       "      <td>4</td>\n",
       "    </tr>\n",
       "    <tr>\n",
       "      <th>top</th>\n",
       "      <td>BURGER</td>\n",
       "    </tr>\n",
       "    <tr>\n",
       "      <th>freq</th>\n",
       "      <td>4</td>\n",
       "    </tr>\n",
       "  </tbody>\n",
       "</table>\n",
       "</div>"
      ],
      "text/plain": [
       "       ITEM_NAME\n",
       "count         11\n",
       "unique         4\n",
       "top       BURGER\n",
       "freq           4"
      ]
     },
     "execution_count": 15,
     "metadata": {},
     "output_type": "execute_result"
    }
   ],
   "source": [
    "# describe() it generate descriptive statistics.\n",
    "sold.describe()\n",
    "sold.describe(include = ['O']) "
   ]
  },
  {
   "cell_type": "code",
   "execution_count": 16,
   "id": "902aec9f",
   "metadata": {},
   "outputs": [
    {
     "data": {
      "text/html": [
       "<div>\n",
       "<style scoped>\n",
       "    .dataframe tbody tr th:only-of-type {\n",
       "        vertical-align: middle;\n",
       "    }\n",
       "\n",
       "    .dataframe tbody tr th {\n",
       "        vertical-align: top;\n",
       "    }\n",
       "\n",
       "    .dataframe thead th {\n",
       "        text-align: right;\n",
       "    }\n",
       "</style>\n",
       "<table border=\"1\" class=\"dataframe\">\n",
       "  <thead>\n",
       "    <tr style=\"text-align: right;\">\n",
       "      <th></th>\n",
       "      <th>SELL_ID</th>\n",
       "      <th>SELL_CATEGORY</th>\n",
       "      <th>ITEM_ID</th>\n",
       "      <th>ITEM_NAME</th>\n",
       "    </tr>\n",
       "  </thead>\n",
       "  <tbody>\n",
       "  </tbody>\n",
       "</table>\n",
       "</div>"
      ],
      "text/plain": [
       "Empty DataFrame\n",
       "Columns: [SELL_ID, SELL_CATEGORY, ITEM_ID, ITEM_NAME]\n",
       "Index: []"
      ]
     },
     "execution_count": 16,
     "metadata": {},
     "output_type": "execute_result"
    }
   ],
   "source": [
    "# check for null\n",
    "sold[sold.isnull().any(axis=1)]"
   ]
  },
  {
   "cell_type": "markdown",
   "id": "8abc7797",
   "metadata": {},
   "source": [
    "SELL_ID: a categorical variable, identifier of the combination of items that is contained in the product.\n",
    "\n",
    "SELL_CATEGORY: “0” identifies single products; the category “2” identifies the combo ones.\n",
    "\n",
    "ITEM_ID: a categorical variable, identifier of the item that is contained in the product.\n",
    "\n",
    "ITEM_NAME: a categorical variable, identifying the name of the item"
   ]
  },
  {
   "cell_type": "code",
   "execution_count": 17,
   "id": "18146600",
   "metadata": {},
   "outputs": [
    {
     "data": {
      "text/plain": [
       "<seaborn.axisgrid.PairGrid at 0x7f9879a81fd0>"
      ]
     },
     "execution_count": 17,
     "metadata": {},
     "output_type": "execute_result"
    },
    {
     "data": {
      "image/png": "[encoded data removed]",
      "text/plain": [
       "<Figure size 540x540 with 12 Axes>"
      ]
     },
     "metadata": {},
     "output_type": "display_data"
    }
   ],
   "source": [
    "# we alreday imorted seaborn library which has function called pair plotplot.\n",
    "# a pairplot for the data - it is scatter plot between all the variables that are there in the data\n",
    "# it will show you relationships between the data and show you very well\n",
    "\n",
    "sns.pairplot(sold)"
   ]
  },
  {
   "cell_type": "code",
   "execution_count": null,
   "id": "cf7cc987",
   "metadata": {},
   "outputs": [],
   "source": []
  },
  {
   "cell_type": "code",
   "execution_count": null,
   "id": "2371884e",
   "metadata": {},
   "outputs": [],
   "source": []
  },
  {
   "cell_type": "code",
   "execution_count": null,
   "id": "67652e97",
   "metadata": {},
   "outputs": [],
   "source": []
  },
  {
   "cell_type": "code",
   "execution_count": null,
   "id": "36e940c9",
   "metadata": {},
   "outputs": [],
   "source": []
  },
  {
   "cell_type": "code",
   "execution_count": null,
   "id": "ffe2bf60",
   "metadata": {},
   "outputs": [],
   "source": []
  },
  {
   "cell_type": "code",
   "execution_count": null,
   "id": "3d585c90",
   "metadata": {},
   "outputs": [],
   "source": []
  }
 ],
 "metadata": {
  "kernelspec": {
   "display_name": "Python 3 (ipykernel)",
   "language": "python",
   "name": "python3"
  },
  "language_info": {
   "codemirror_mode": {
    "name": "ipython",
    "version": 3
   },
   "file_extension": ".py",
   "mimetype": "text/x-python",
   "name": "python",
   "nbconvert_exporter": "python",
   "pygments_lexer": "ipython3",
   "version": "3.9.7"
  }
 },
 "nbformat": 4,
 "nbformat_minor": 5
}
